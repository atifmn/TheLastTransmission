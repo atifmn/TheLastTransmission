{
  "nbformat": 4,
  "nbformat_minor": 0,
  "metadata": {
    "colab": {
      "provenance": [],
      "authorship_tag": "ABX9TyPGH6/2qb6W+kXlI+LcmWRH",
      "include_colab_link": true
    },
    "kernelspec": {
      "name": "python3",
      "display_name": "Python 3"
    },
    "language_info": {
      "name": "python"
    }
  },
  "cells": [
    {
      "cell_type": "markdown",
      "metadata": {
        "id": "view-in-github",
        "colab_type": "text"
      },
      "source": [
        "<a href=\"https://colab.research.google.com/github/atifmn/TheLastTransmission/blob/main/LastTransmission.ipynb\" target=\"_parent\"><img src=\"https://colab.research.google.com/assets/colab-badge.svg\" alt=\"Open In Colab\"/></a>"
      ]
    },
    {
      "cell_type": "code",
      "execution_count": 5,
      "metadata": {
        "id": "1Pspqx9Tq_-P",
        "colab": {
          "base_uri": "https://localhost:8080/"
        },
        "outputId": "2037f92c-78bc-47da-e15e-1221bca77890"
      },
      "outputs": [
        {
          "output_type": "stream",
          "name": "stdout",
          "text": [
            "🚀 Welcome to MISSION: SURVIVE MARS 🚀\n",
            "Astronaut, what's your name?Sri\n",
            "\n",
            "Good luck, Commandor Sri. You're our last hope ... \n",
            "\n",
            "You wake up to red dust swirling. Your oxygen alarm is beeping.\n",
            "Oxygen: 100\n",
            "  a) Check oxygen tank\n",
            "  b) Look for shelter\n",
            "> a\n",
            "\n",
            "Tank is cracked! You patch it with duct tape—temporary fix.\n",
            "Oxygen: 95\n",
            "  a) Head to wreckage\n",
            "> a\n",
            "\n",
            "You find the old habitat dome. Power flickers...\n",
            "Oxygen: 85\n",
            "  a) Enter the dome\n",
            "  b) Keep walking\n",
            "> a\n",
            "\n",
            "You made it! Rescue ship inbound. 🛰️\n",
            "Oxygen: 85\n",
            "\n",
            "GAME OVER.\n"
          ]
        }
      ],
      "source": [
        "# Mars Survival Game\n",
        "print(\"🚀 Welcome to MISSION: SURVIVE MARS 🚀\")\n",
        "player_name = input(\"Astronaut, what's your name?\")\n",
        "print(f\"\\nGood luck, Commandor {player_name}. You're our last hope ... \")\n",
        "\n",
        "scenes = {\n",
        "    \"crash_site\": {\n",
        "        \"text\": \"You wake up to red dust swirling. Your oxygen alarm is beeping.\",\n",
        "        \"choices\": {\n",
        "            \"a\": {\"desc\": \"Check oxygen tank\", \"next\": \"oxygen_check\", \"oxygen\": -5},\n",
        "            \"b\": {\"desc\": \"Look for shelter\", \"next\": \"base_search\", \"oxygen\": -10}\n",
        "        }\n",
        "    },\n",
        "    \"oxygen_check\": {\n",
        "        \"text\": \"Tank is cracked! You patch it with duct tape—temporary fix.\",\n",
        "        \"choices\": {\n",
        "            \"a\": {\"desc\": \"Head to wreckage\", \"next\": \"base_search\", \"oxygen\": -10}\n",
        "        }\n",
        "    },\n",
        "    \"base_search\": {\n",
        "        \"text\": \"You find the old habitat dome. Power flickers...\",\n",
        "        \"choices\": {\n",
        "            \"a\": {\"desc\": \"Enter the dome\", \"next\": \"ending_safe\"},\n",
        "            \"b\": {\"desc\": \"Keep walking\", \"next\": \"ending_lost\"}\n",
        "        }\n",
        "    },\n",
        "    \"ending_safe\": {\"text\": \"You made it! Rescue ship inbound. 🛰️\", \"choices\": {}},\n",
        "    \"ending_lost\": {\"text\": \"You collapse under the twin moons of Mars. The end.\", \"choices\": {}}\n",
        "}\n",
        "\n",
        "game_state = {\"oxygen\": 100, \"scene\": \"crash_site\"}\n",
        "\n",
        "while True:\n",
        "    scene = scenes[game_state[\"scene\"]]\n",
        "    print(\"\\n\" + scene[\"text\"])\n",
        "    print(f\"Oxygen: {game_state['oxygen']}\")\n",
        "\n",
        "    if not scene[\"choices\"]:\n",
        "        print(\"\\nGAME OVER.\")\n",
        "        break\n",
        "\n",
        "    for key, info in scene[\"choices\"].items():\n",
        "        print(f\"  {key}) {info['desc']}\")\n",
        "\n",
        "    choice = input(\"> \").lower()\n",
        "    if choice in scene[\"choices\"]:\n",
        "        effect = scene[\"choices\"][choice]\n",
        "        game_state[\"scene\"] = effect[\"next\"]\n",
        "        game_state[\"oxygen\"] += effect.get(\"oxygen\", 0)\n",
        "    else:\n",
        "        print(\"Invalid choice. Try again.\")\n"
      ]
    },
    {
      "cell_type": "code",
      "source": [],
      "metadata": {
        "id": "ZFq7BYtBru3i"
      },
      "execution_count": null,
      "outputs": []
    }
  ]
}
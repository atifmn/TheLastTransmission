{
  "nbformat": 4,
  "nbformat_minor": 0,
  "metadata": {
    "colab": {
      "provenance": [],
      "authorship_tag": "ABX9TyPGH6/2qb6W+kXlI+LcmWRH",
      "include_colab_link": true
    },
    "kernelspec": {
      "name": "python3",
      "display_name": "Python 3"
    },
    "language_info": {
      "name": "python"
    }
  },
  "cells": [
    {
      "cell_type": "markdown",
      "metadata": {
        "id": "view-in-github",
        "colab_type": "text"
      },
      "source": [
        "<a href=\"https://colab.research.google.com/github/atifmn/TheLastTransmission/blob/main/LastTransmission.ipynb\" target=\"_parent\"><img src=\"https://colab.research.google.com/assets/colab-badge.svg\" alt=\"Open In Colab\"/></a>"
      ]
    },
    {
      "cell_type": "code",
      "execution_count": 4,
      "metadata": {
        "id": "1Pspqx9Tq_-P",
        "colab": {
          "base_uri": "https://localhost:8080/",
          "height": 373
        },
        "outputId": "ca20230f-30f1-40dc-bd3d-81dda0b9a8ef"
      },
      "outputs": [
        {
          "output_type": "stream",
          "name": "stdout",
          "text": [
            "🚀 Welcome to MISSION: SURVIVE MARS 🚀\n"
          ]
        },
        {
          "output_type": "error",
          "ename": "KeyboardInterrupt",
          "evalue": "Interrupted by user",
          "traceback": [
            "\u001b[0;31m---------------------------------------------------------------------------\u001b[0m",
            "\u001b[0;31mKeyboardInterrupt\u001b[0m                         Traceback (most recent call last)",
            "\u001b[0;32m/tmp/ipython-input-2834469470.py\u001b[0m in \u001b[0;36m<cell line: 0>\u001b[0;34m()\u001b[0m\n\u001b[1;32m      1\u001b[0m \u001b[0;31m# Mars Survival Game\u001b[0m\u001b[0;34m\u001b[0m\u001b[0;34m\u001b[0m\u001b[0m\n\u001b[1;32m      2\u001b[0m \u001b[0mprint\u001b[0m\u001b[0;34m(\u001b[0m\u001b[0;34m\"🚀 Welcome to MISSION: SURVIVE MARS 🚀\"\u001b[0m\u001b[0;34m)\u001b[0m\u001b[0;34m\u001b[0m\u001b[0;34m\u001b[0m\u001b[0m\n\u001b[0;32m----> 3\u001b[0;31m \u001b[0mplayer_name\u001b[0m \u001b[0;34m=\u001b[0m \u001b[0minput\u001b[0m\u001b[0;34m(\u001b[0m\u001b[0;34m\"Astronaut, what's your name?\"\u001b[0m\u001b[0;34m)\u001b[0m\u001b[0;34m\u001b[0m\u001b[0;34m\u001b[0m\u001b[0m\n\u001b[0m\u001b[1;32m      4\u001b[0m \u001b[0mprint\u001b[0m\u001b[0;34m(\u001b[0m\u001b[0;34mf\"\\nGood luck, Commandor {player_name}. You're our last hope ... \"\u001b[0m\u001b[0;34m)\u001b[0m\u001b[0;34m\u001b[0m\u001b[0;34m\u001b[0m\u001b[0m\n\u001b[1;32m      5\u001b[0m \u001b[0;34m\u001b[0m\u001b[0m\n",
            "\u001b[0;32m/usr/local/lib/python3.12/dist-packages/ipykernel/kernelbase.py\u001b[0m in \u001b[0;36mraw_input\u001b[0;34m(self, prompt)\u001b[0m\n\u001b[1;32m   1175\u001b[0m                 \u001b[0;34m\"raw_input was called, but this frontend does not support input requests.\"\u001b[0m\u001b[0;34m\u001b[0m\u001b[0;34m\u001b[0m\u001b[0m\n\u001b[1;32m   1176\u001b[0m             )\n\u001b[0;32m-> 1177\u001b[0;31m         return self._input_request(\n\u001b[0m\u001b[1;32m   1178\u001b[0m             \u001b[0mstr\u001b[0m\u001b[0;34m(\u001b[0m\u001b[0mprompt\u001b[0m\u001b[0;34m)\u001b[0m\u001b[0;34m,\u001b[0m\u001b[0;34m\u001b[0m\u001b[0;34m\u001b[0m\u001b[0m\n\u001b[1;32m   1179\u001b[0m             \u001b[0mself\u001b[0m\u001b[0;34m.\u001b[0m\u001b[0m_parent_ident\u001b[0m\u001b[0;34m[\u001b[0m\u001b[0;34m\"shell\"\u001b[0m\u001b[0;34m]\u001b[0m\u001b[0;34m,\u001b[0m\u001b[0;34m\u001b[0m\u001b[0;34m\u001b[0m\u001b[0m\n",
            "\u001b[0;32m/usr/local/lib/python3.12/dist-packages/ipykernel/kernelbase.py\u001b[0m in \u001b[0;36m_input_request\u001b[0;34m(self, prompt, ident, parent, password)\u001b[0m\n\u001b[1;32m   1217\u001b[0m             \u001b[0;32mexcept\u001b[0m \u001b[0mKeyboardInterrupt\u001b[0m\u001b[0;34m:\u001b[0m\u001b[0;34m\u001b[0m\u001b[0;34m\u001b[0m\u001b[0m\n\u001b[1;32m   1218\u001b[0m                 \u001b[0;31m# re-raise KeyboardInterrupt, to truncate traceback\u001b[0m\u001b[0;34m\u001b[0m\u001b[0;34m\u001b[0m\u001b[0m\n\u001b[0;32m-> 1219\u001b[0;31m                 \u001b[0;32mraise\u001b[0m \u001b[0mKeyboardInterrupt\u001b[0m\u001b[0;34m(\u001b[0m\u001b[0;34m\"Interrupted by user\"\u001b[0m\u001b[0;34m)\u001b[0m \u001b[0;32mfrom\u001b[0m \u001b[0;32mNone\u001b[0m\u001b[0;34m\u001b[0m\u001b[0;34m\u001b[0m\u001b[0m\n\u001b[0m\u001b[1;32m   1220\u001b[0m             \u001b[0;32mexcept\u001b[0m \u001b[0mException\u001b[0m\u001b[0;34m:\u001b[0m\u001b[0;34m\u001b[0m\u001b[0;34m\u001b[0m\u001b[0m\n\u001b[1;32m   1221\u001b[0m                 \u001b[0mself\u001b[0m\u001b[0;34m.\u001b[0m\u001b[0mlog\u001b[0m\u001b[0;34m.\u001b[0m\u001b[0mwarning\u001b[0m\u001b[0;34m(\u001b[0m\u001b[0;34m\"Invalid Message:\"\u001b[0m\u001b[0;34m,\u001b[0m \u001b[0mexc_info\u001b[0m\u001b[0;34m=\u001b[0m\u001b[0;32mTrue\u001b[0m\u001b[0;34m)\u001b[0m\u001b[0;34m\u001b[0m\u001b[0;34m\u001b[0m\u001b[0m\n",
            "\u001b[0;31mKeyboardInterrupt\u001b[0m: Interrupted by user"
          ]
        }
      ],
      "source": [
        "# Mars Survival Game\n",
        "print(\"🚀 Welcome to MISSION: SURVIVE MARS 🚀\")\n",
        "player_name = input(\"Astronaut, what's your name?\")\n",
        "print(f\"\\nGood luck, Commandor {player_name}. You're our last hope ... \")\n",
        "\n",
        "scenes = {\n",
        "    \"crash_site\": {\n",
        "        \"text\": \"You wake up to red dust swirling. Your oxygen alarm is beeping.\",\n",
        "        \"choices\": {\n",
        "            \"a\": {\"desc\": \"Check oxygen tank\", \"next\": \"oxygen_check\", \"oxygen\": -5},\n",
        "            \"b\": {\"desc\": \"Look for shelter\", \"next\": \"base_search\", \"oxygen\": -10}\n",
        "        }\n",
        "    },\n",
        "    \"oxygen_check\": {\n",
        "        \"text\": \"Tank is cracked! You patch it with duct tape—temporary fix.\",\n",
        "        \"choices\": {\n",
        "            \"a\": {\"desc\": \"Head to wreckage\", \"next\": \"base_search\", \"oxygen\": -10}\n",
        "        }\n",
        "    },\n",
        "    \"base_search\": {\n",
        "        \"text\": \"You find the old habitat dome. Power flickers...\",\n",
        "        \"choices\": {\n",
        "            \"a\": {\"desc\": \"Enter the dome\", \"next\": \"ending_safe\"},\n",
        "            \"b\": {\"desc\": \"Keep walking\", \"next\": \"ending_lost\"}\n",
        "        }\n",
        "    },\n",
        "    \"ending_safe\": {\"text\": \"You made it! Rescue ship inbound. 🛰️\", \"choices\": {}},\n",
        "    \"ending_lost\": {\"text\": \"You collapse under the twin moons of Mars. The end.\", \"choices\": {}}\n",
        "}\n",
        "\n",
        "game_state = {\"oxygen\": 100, \"scene\": \"crash_site\"}\n",
        "\n",
        "while True:\n",
        "    scene = scenes[game_state[\"scene\"]]\n",
        "    print(\"\\n\" + scene[\"text\"])\n",
        "    print(f\"Oxygen: {game_state['oxygen']}\")\n",
        "\n",
        "    if not scene[\"choices\"]:\n",
        "        print(\"\\nGAME OVER.\")\n",
        "        break\n",
        "\n",
        "    for key, info in scene[\"choices\"].items():\n",
        "        print(f\"  {key}) {info['desc']}\")\n",
        "\n",
        "    choice = input(\"> \").lower()\n",
        "    if choice in scene[\"choices\"]:\n",
        "        effect = scene[\"choices\"][choice]\n",
        "        game_state[\"scene\"] = effect[\"next\"]\n",
        "        game_state[\"oxygen\"] += effect.get(\"oxygen\", 0)\n",
        "    else:\n",
        "        print(\"Invalid choice. Try again.\")\n"
      ]
    },
    {
      "cell_type": "code",
      "source": [],
      "metadata": {
        "id": "ZFq7BYtBru3i"
      },
      "execution_count": null,
      "outputs": []
    }
  ]
}
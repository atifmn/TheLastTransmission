{
  "nbformat": 4,
  "nbformat_minor": 0,
  "metadata": {
    "colab": {
      "provenance": [],
      "authorship_tag": "ABX9TyMt2LzjkzwDaOGAhlMGWWR9",
      "include_colab_link": true
    },
    "kernelspec": {
      "name": "python3",
      "display_name": "Python 3"
    },
    "language_info": {
      "name": "python"
    }
  },
  "cells": [
    {
      "cell_type": "markdown",
      "metadata": {
        "id": "view-in-github",
        "colab_type": "text"
      },
      "source": [
        "<a href=\"https://colab.research.google.com/github/atifmn/TheLastTransmission/blob/main/LastTransmission.ipynb\" target=\"_parent\"><img src=\"https://colab.research.google.com/assets/colab-badge.svg\" alt=\"Open In Colab\"/></a>"
      ]
    },
    {
      "cell_type": "code",
      "execution_count": 8,
      "metadata": {
        "id": "1Pspqx9Tq_-P",
        "colab": {
          "base_uri": "https://localhost:8080/"
        },
        "outputId": "d1c05496-6e0b-4aaf-f11f-b42e0b05e9d1"
      },
      "outputs": [
        {
          "output_type": "stream",
          "name": "stdout",
          "text": [
            "🚀 Welcome to MISSION: SURVIVE MARS 🚀\n",
            "Astronaut, what's your name?Bob\n",
            "\n",
            "Good luck, Commandor Bob. You're our last hope ... \n",
            "\n",
            "You wake up to red dust swirling. Your oxygen alarm is beeping.\n",
            "Oxygen: 100\n",
            "  a) Check oxygen tank\n",
            "  b) Look for shelter\n",
            "> b\n",
            "\n",
            "You find the old habitat dome. Power flickers...\n",
            "Oxygen: 90\n",
            "  a) Enter the dome\n",
            "  b) Keep walking\n",
            "> b\n",
            "\n",
            "You collapse under the twin moons of Mars. The end.\n",
            "Oxygen: 90\n",
            "\n",
            "GAME OVER.\n"
          ]
        }
      ],
      "source": [
        "# Mars Survival Game\n",
        "print(\"🚀 Welcome to MISSION: SURVIVE MARS 🚀\")\n",
        "player_name = input(\"Astronaut, what's your name?\")\n",
        "print(f\"\\nGood luck, Commandor {player_name}. You're our last hope ... \")\n",
        "\n",
        "scenes = {\n",
        "    \"crash_site\": {\n",
        "        \"text\": \"You wake up to red dust swirling. Your oxygen alarm is beeping.\",\n",
        "        \"choices\": {\n",
        "            \"a\": {\"desc\": \"Check oxygen tank\", \"next\": \"oxygen_check\", \"oxygen\": -5},\n",
        "            \"b\": {\"desc\": \"Look for shelter\", \"next\": \"base_search\", \"oxygen\": -10}\n",
        "        }\n",
        "    },\n",
        "    \"oxygen_check\": {\n",
        "        \"text\": \"Tank is cracked! You patch it with duct tape—temporary fix.\",\n",
        "        \"choices\": {\n",
        "            \"a\": {\"desc\": \"Head to wreckage\", \"next\": \"base_search\", \"oxygen\": -10}\n",
        "        }\n",
        "    },\n",
        "    \"base_search\": {\n",
        "        \"text\": \"You find the old habitat dome. Power flickers...\",\n",
        "        \"choices\": {\n",
        "            \"a\": {\"desc\": \"Enter the dome\", \"next\": \"ending_safe\"},\n",
        "            \"b\": {\"desc\": \"Keep walking\", \"next\": \"ending_lost\"}\n",
        "        }\n",
        "    },\n",
        "    \"ending_safe\": {\"text\": \"You made it! Rescue ship inbound. 🛰️\", \"choices\": {}},\n",
        "    \"ending_lost\": {\"text\": \"You collapse under the twin moons of Mars. The end.\", \"choices\": {}\n",
        "    },\n",
        "\n",
        "    \"hab_inside\": {\n",
        "        \"text\": \"Inside the habitat, dust coats everything. Power is failing fast.\",\n",
        "        \"choices\": {\n",
        "            \"a\": {\"desc\": \"Try to repair power systems\", \"next\": \"repair_power\", \"oxygen\": -10},\n",
        "            \"b\": {\"desc\": \"Rest to recover\", \"next\": \"rest\", \"oxygen\": -5}\n",
        "        }\n",
        "    },\n",
        "    \"repair_power\": {\n",
        "        \"text\": \"You manage to reroute power! Lights flicker on, revealing a distress beacon.\",\n",
        "        \"choices\": {\n",
        "            \"a\": {\"desc\": \"Activate beacon\", \"next\": \"ending_safe\", \"oxygen\": -10},\n",
        "            \"b\": {\"desc\": \"Save power and keep exploring\", \"next\": \"signal_detected\", \"oxygen\": -5}\n",
        "        }\n",
        "    },\n",
        "    \"rest\": {\n",
        "        \"text\": \"You drift into uneasy sleep. When you wake, oxygen is dangerously low.\",\n",
        "        \"choices\": {\n",
        "            \"a\": {\"desc\": \"Rush to repair power\", \"next\": \"repair_power\", \"oxygen\": -20},\n",
        "            \"b\": {\"desc\": \"Search for other survivors\", \"next\": \"signal_detected\", \"oxygen\": -15}\n",
        "        }\n",
        "    },\n",
        "    \"signal_detected\": {\n",
        "        \"text\": \"A faint radio signal cuts through the static — possible survivor or automated beacon.\",\n",
        "        \"choices\": {\n",
        "            \"a\": {\"desc\": \"Follow the signal\", \"next\": \"ending_rescue\", \"oxygen\": -15},\n",
        "            \"b\": {\"desc\": \"Ignore it and move toward base\", \"next\": \"dust_storm\", \"oxygen\": -10}\n",
        "        }\n",
        "    },\n",
        "    \"dust_storm\": {\n",
        "        \"text\": \"A blinding dust storm engulfs you. Visibility zero. Alarms blare.\",\n",
        "        \"choices\": {\n",
        "            \"a\": {\"desc\": \"Seek cover behind rocks\", \"next\": \"ending_lost\", \"oxygen\": -30},\n",
        "            \"b\": {\"desc\": \"Push forward blindly\", \"next\": \"ending_lost\", \"oxygen\": -40}\n",
        "        }\n",
        "    },\n",
        "    \"ending_rescue\": {\n",
        "        \"text\": \"You find a rescue drone! It locks onto your signal and lifts off. You’re going home. 🛰️\",\n",
        "        \"choices\": {}\n",
        "    }\n",
        "}\n",
        "\n",
        "game_state = {\"oxygen\": 100, \"scene\": \"crash_site\"}\n",
        "\n",
        "while True:\n",
        "    scene = scenes[game_state[\"scene\"]]\n",
        "    print(\"\\n\" + scene[\"text\"])\n",
        "    print(f\"Oxygen: {game_state['oxygen']}\")\n",
        "\n",
        "    if not scene[\"choices\"]:\n",
        "        print(\"\\nGAME OVER.\")\n",
        "        break\n",
        "\n",
        "    for key, info in scene[\"choices\"].items():\n",
        "        print(f\"  {key}) {info['desc']}\")\n",
        "\n",
        "    choice = input(\"> \").lower()\n",
        "    if choice in scene[\"choices\"]:\n",
        "        effect = scene[\"choices\"][choice]\n",
        "        game_state[\"scene\"] = effect[\"next\"]\n",
        "        game_state[\"oxygen\"] += effect.get(\"oxygen\", 0)\n",
        "    else:\n",
        "        print(\"Invalid choice. Try again.\")\n"
      ]
    },
    {
      "cell_type": "code",
      "source": [],
      "metadata": {
        "id": "ZFq7BYtBru3i"
      },
      "execution_count": null,
      "outputs": []
    }
  ]
}